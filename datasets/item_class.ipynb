{
 "cells": [
  {
   "cell_type": "code",
   "metadata": {
    "ExecuteTime": {
     "end_time": "2024-12-30T01:36:12.170071Z",
     "start_time": "2024-12-30T01:36:11.598669Z"
    }
   },
   "source": [
    "import pandas as pd\n",
    "import os\n",
    "import random\n",
    "import torch\n",
    "import pickle"
   ],
   "outputs": [],
   "execution_count": 1
  },
  {
   "cell_type": "code",
   "metadata": {
    "ExecuteTime": {
     "end_time": "2024-12-30T01:36:12.290680Z",
     "start_time": "2024-12-30T01:36:12.170587Z"
    }
   },
   "source": [
    "random.seed(2024)\n",
    "!ls"
   ],
   "outputs": [
    {
     "name": "stdout",
     "output_type": "stream",
     "text": [
      "data\t\t  preprocess_amazon.ipynb  Statistics_KuaiRec.ipynb\r\n",
      "item_class.ipynb  readme.md\r\n"
     ]
    }
   ],
   "execution_count": 2
  },
  {
   "cell_type": "markdown",
   "metadata": {},
   "source": [
    "# Load original dataset"
   ]
  },
  {
   "cell_type": "markdown",
   "metadata": {},
   "source": [
    "### Selecting datasets"
   ]
  },
  {
   "cell_type": "code",
   "metadata": {
    "ExecuteTime": {
     "end_time": "2024-12-30T01:36:42.864088Z",
     "start_time": "2024-12-30T01:36:41.178930Z"
    }
   },
   "source": [
    "\n",
    "dataset_name =  \"yelp\"\n",
    "root = 'data/'+dataset_name+'/'\n",
    "path = root + dataset_name + '.inter'\n",
    "dataset = pd.read_csv(path, header=0,sep='\\t', skipinitialspace=True,usecols=[0,1,2,3])\n",
    "# print(dataset.head(2))\n",
    "# if dataset_name ==  \"mind\":\n",
    "#     dataset=dataset.drop('label:float', axis=1)\n",
    "dataset.head()"
   ],
   "outputs": [
    {
     "data": {
      "text/plain": [
       "            user_id:token           item_id:token  rating:float  \\\n",
       "0  bv2nCi5Qv5vroFiqKGopiw  0W4lkclzZThpx3V65bVgig             5   \n",
       "1  bv2nCi5Qv5vroFiqKGopiw  AEx2SYEUJmTxVVB18LlCwA             5   \n",
       "2  bv2nCi5Qv5vroFiqKGopiw  VR6GpWIda3SfvPC-lg9H3w             5   \n",
       "3  bv2nCi5Qv5vroFiqKGopiw  CKC0-MOWMqoeWf6s-szl8g             5   \n",
       "4  bv2nCi5Qv5vroFiqKGopiw  ACFtxLv8pGrrxMm6EgjreA             4   \n",
       "\n",
       "   timestamp:float  \n",
       "0       1464364800  \n",
       "1       1464364800  \n",
       "2       1464364800  \n",
       "3       1464364800  \n",
       "4       1464364800  "
      ],
      "text/html": [
       "<div>\n",
       "<style scoped>\n",
       "    .dataframe tbody tr th:only-of-type {\n",
       "        vertical-align: middle;\n",
       "    }\n",
       "\n",
       "    .dataframe tbody tr th {\n",
       "        vertical-align: top;\n",
       "    }\n",
       "\n",
       "    .dataframe thead th {\n",
       "        text-align: right;\n",
       "    }\n",
       "</style>\n",
       "<table border=\"1\" class=\"dataframe\">\n",
       "  <thead>\n",
       "    <tr style=\"text-align: right;\">\n",
       "      <th></th>\n",
       "      <th>user_id:token</th>\n",
       "      <th>item_id:token</th>\n",
       "      <th>rating:float</th>\n",
       "      <th>timestamp:float</th>\n",
       "    </tr>\n",
       "  </thead>\n",
       "  <tbody>\n",
       "    <tr>\n",
       "      <th>0</th>\n",
       "      <td>bv2nCi5Qv5vroFiqKGopiw</td>\n",
       "      <td>0W4lkclzZThpx3V65bVgig</td>\n",
       "      <td>5</td>\n",
       "      <td>1464364800</td>\n",
       "    </tr>\n",
       "    <tr>\n",
       "      <th>1</th>\n",
       "      <td>bv2nCi5Qv5vroFiqKGopiw</td>\n",
       "      <td>AEx2SYEUJmTxVVB18LlCwA</td>\n",
       "      <td>5</td>\n",
       "      <td>1464364800</td>\n",
       "    </tr>\n",
       "    <tr>\n",
       "      <th>2</th>\n",
       "      <td>bv2nCi5Qv5vroFiqKGopiw</td>\n",
       "      <td>VR6GpWIda3SfvPC-lg9H3w</td>\n",
       "      <td>5</td>\n",
       "      <td>1464364800</td>\n",
       "    </tr>\n",
       "    <tr>\n",
       "      <th>3</th>\n",
       "      <td>bv2nCi5Qv5vroFiqKGopiw</td>\n",
       "      <td>CKC0-MOWMqoeWf6s-szl8g</td>\n",
       "      <td>5</td>\n",
       "      <td>1464364800</td>\n",
       "    </tr>\n",
       "    <tr>\n",
       "      <th>4</th>\n",
       "      <td>bv2nCi5Qv5vroFiqKGopiw</td>\n",
       "      <td>ACFtxLv8pGrrxMm6EgjreA</td>\n",
       "      <td>4</td>\n",
       "      <td>1464364800</td>\n",
       "    </tr>\n",
       "  </tbody>\n",
       "</table>\n",
       "</div>"
      ]
     },
     "execution_count": 4,
     "metadata": {},
     "output_type": "execute_result"
    }
   ],
   "execution_count": 4
  },
  {
   "metadata": {
    "ExecuteTime": {
     "end_time": "2024-12-29T08:24:37.636811Z",
     "start_time": "2024-12-29T08:24:37.635200Z"
    }
   },
   "cell_type": "code",
   "source": "\n",
   "outputs": [],
   "execution_count": 77
  },
  {
   "metadata": {
    "ExecuteTime": {
     "end_time": "2024-12-29T08:24:38.157710Z",
     "start_time": "2024-12-29T08:24:38.155692Z"
    }
   },
   "cell_type": "code",
   "source": [
    "# dataset_name =  \"kuairec\"\n",
    "# root = 'datasets/data/'+dataset_name+'/'\n",
    "# path=root + 'big_matrix.csv'\n",
    "# print(\"Loading matrix...\")\n",
    "# dataset = pd.read_csv(path,usecols=[0,1,6,7])\n",
    "# dataset.head()\n",
    "# dataset.columns = ['user_id','item_id', 'timestamp','rating']\n",
    "# dataset = dataset[dataset.rating > 2]"
   ],
   "outputs": [],
   "execution_count": 78
  },
  {
   "metadata": {
    "ExecuteTime": {
     "end_time": "2024-12-30T01:36:52.521697Z",
     "start_time": "2024-12-30T01:36:52.518953Z"
    }
   },
   "cell_type": "code",
   "source": [
    "\n",
    "dataset.columns = ['user_id','item_id', 'rating','timestamp']\n",
    "# dataset = dataset[dataset.rating > 3]\n",
    "# dataset.columns = ['user_id', 'item_id',  'timestamp']\n",
    "dataset.shape"
   ],
   "outputs": [
    {
     "data": {
      "text/plain": [
       "(5261669, 4)"
      ]
     },
     "execution_count": 5,
     "metadata": {},
     "output_type": "execute_result"
    }
   ],
   "execution_count": 5
  },
  {
   "metadata": {
    "ExecuteTime": {
     "end_time": "2024-12-30T01:37:20.396989Z",
     "start_time": "2024-12-30T01:37:20.289018Z"
    }
   },
   "cell_type": "code",
   "source": [
    "dataset_name =  \"yelp\"\n",
    "root = 'data/'+dataset_name+'/'\n",
    "path = root + dataset_name + '.item'\n",
    "item = pd.read_csv(path, header=0,sep='\\t', skipinitialspace=True,usecols=[0,3])\n",
    "# print(dataset.head(2))\n",
    "# if dataset_name ==  \"mind\":\n",
    "#     dataset=dataset.drop('label:float', axis=1)\n",
    "item.columns=['item_id','item_class']\n",
    "print(item['item_class'].value_counts())\n",
    "item.head(10)"
   ],
   "outputs": [
    {
     "name": "stdout",
     "output_type": "stream",
     "text": [
      "item_class\n",
      "Las Vegas                26775\n",
      "Phoenix                  17213\n",
      "Toronto                  17206\n",
      "Charlotte                 8553\n",
      "Scottsdale                8228\n",
      "                         ...  \n",
      "Middleburg Hts.              1\n",
      "Midddleton                   1\n",
      "Scarobrough                  1\n",
      "Harrisbug                    1\n",
      "Saint-Basile-Le-Grand        1\n",
      "Name: count, Length: 1093, dtype: int64\n"
     ]
    },
    {
     "data": {
      "text/plain": [
       "                  item_id      item_class\n",
       "0  FYWN1wneV18bWNgQjJ2GNg       Ahwatukee\n",
       "1  He-G7vWjzVUysIKrfNbPUQ        McMurray\n",
       "2  KQPW8lFf1y5BT2MxiSZ3QA         Phoenix\n",
       "3  8DShNS-LuFqpEWIp0HxijA           Tempe\n",
       "4  PfOCPjBrlQAnz__NXj9h_w  Cuyahoga Falls\n",
       "5  o9eMRCWt5PkpLDE0gOPtcQ       Stuttgart\n",
       "6  kCoE3jvEtg6UVz5SOD3GVw       Las Vegas\n",
       "7  OD2hnuuTJI9uotcKycxg1A       Las Vegas\n",
       "8  EsMcGiZaQuG1OOvL9iUFug         Wexford\n",
       "9  TGWhGNusxyMaA4kQVBNeew       Henderson"
      ],
      "text/html": [
       "<div>\n",
       "<style scoped>\n",
       "    .dataframe tbody tr th:only-of-type {\n",
       "        vertical-align: middle;\n",
       "    }\n",
       "\n",
       "    .dataframe tbody tr th {\n",
       "        vertical-align: top;\n",
       "    }\n",
       "\n",
       "    .dataframe thead th {\n",
       "        text-align: right;\n",
       "    }\n",
       "</style>\n",
       "<table border=\"1\" class=\"dataframe\">\n",
       "  <thead>\n",
       "    <tr style=\"text-align: right;\">\n",
       "      <th></th>\n",
       "      <th>item_id</th>\n",
       "      <th>item_class</th>\n",
       "    </tr>\n",
       "  </thead>\n",
       "  <tbody>\n",
       "    <tr>\n",
       "      <th>0</th>\n",
       "      <td>FYWN1wneV18bWNgQjJ2GNg</td>\n",
       "      <td>Ahwatukee</td>\n",
       "    </tr>\n",
       "    <tr>\n",
       "      <th>1</th>\n",
       "      <td>He-G7vWjzVUysIKrfNbPUQ</td>\n",
       "      <td>McMurray</td>\n",
       "    </tr>\n",
       "    <tr>\n",
       "      <th>2</th>\n",
       "      <td>KQPW8lFf1y5BT2MxiSZ3QA</td>\n",
       "      <td>Phoenix</td>\n",
       "    </tr>\n",
       "    <tr>\n",
       "      <th>3</th>\n",
       "      <td>8DShNS-LuFqpEWIp0HxijA</td>\n",
       "      <td>Tempe</td>\n",
       "    </tr>\n",
       "    <tr>\n",
       "      <th>4</th>\n",
       "      <td>PfOCPjBrlQAnz__NXj9h_w</td>\n",
       "      <td>Cuyahoga Falls</td>\n",
       "    </tr>\n",
       "    <tr>\n",
       "      <th>5</th>\n",
       "      <td>o9eMRCWt5PkpLDE0gOPtcQ</td>\n",
       "      <td>Stuttgart</td>\n",
       "    </tr>\n",
       "    <tr>\n",
       "      <th>6</th>\n",
       "      <td>kCoE3jvEtg6UVz5SOD3GVw</td>\n",
       "      <td>Las Vegas</td>\n",
       "    </tr>\n",
       "    <tr>\n",
       "      <th>7</th>\n",
       "      <td>OD2hnuuTJI9uotcKycxg1A</td>\n",
       "      <td>Las Vegas</td>\n",
       "    </tr>\n",
       "    <tr>\n",
       "      <th>8</th>\n",
       "      <td>EsMcGiZaQuG1OOvL9iUFug</td>\n",
       "      <td>Wexford</td>\n",
       "    </tr>\n",
       "    <tr>\n",
       "      <th>9</th>\n",
       "      <td>TGWhGNusxyMaA4kQVBNeew</td>\n",
       "      <td>Henderson</td>\n",
       "    </tr>\n",
       "  </tbody>\n",
       "</table>\n",
       "</div>"
      ]
     },
     "execution_count": 8,
     "metadata": {},
     "output_type": "execute_result"
    }
   ],
   "execution_count": 8
  },
  {
   "metadata": {
    "ExecuteTime": {
     "end_time": "2024-12-30T01:42:45.865855Z",
     "start_time": "2024-12-30T01:42:45.849532Z"
    }
   },
   "cell_type": "code",
   "source": [
    "empty_classes = item[item['item_class'].isna() | (item['item_class'] == '')]\n",
    "empty_classes"
   ],
   "outputs": [
    {
     "data": {
      "text/plain": [
       "                       item_id item_class\n",
       "146524  Cr3LJ2sKGNKEYIAjmG7aCA        NaN"
      ],
      "text/html": [
       "<div>\n",
       "<style scoped>\n",
       "    .dataframe tbody tr th:only-of-type {\n",
       "        vertical-align: middle;\n",
       "    }\n",
       "\n",
       "    .dataframe tbody tr th {\n",
       "        vertical-align: top;\n",
       "    }\n",
       "\n",
       "    .dataframe thead th {\n",
       "        text-align: right;\n",
       "    }\n",
       "</style>\n",
       "<table border=\"1\" class=\"dataframe\">\n",
       "  <thead>\n",
       "    <tr style=\"text-align: right;\">\n",
       "      <th></th>\n",
       "      <th>item_id</th>\n",
       "      <th>item_class</th>\n",
       "    </tr>\n",
       "  </thead>\n",
       "  <tbody>\n",
       "    <tr>\n",
       "      <th>146524</th>\n",
       "      <td>Cr3LJ2sKGNKEYIAjmG7aCA</td>\n",
       "      <td>NaN</td>\n",
       "    </tr>\n",
       "  </tbody>\n",
       "</table>\n",
       "</div>"
      ]
     },
     "execution_count": 9,
     "metadata": {},
     "output_type": "execute_result"
    }
   ],
   "execution_count": 9
  },
  {
   "metadata": {
    "ExecuteTime": {
     "end_time": "2024-12-29T08:24:39.550587Z",
     "start_time": "2024-12-29T08:24:39.535294Z"
    }
   },
   "cell_type": "code",
   "source": [
    "# 关心的类别列表\n",
    "categories = [\n",
    "    'Action', 'Crime', 'Film-Noir', 'Musical', 'Sci-Fi', 'Adventure', 'Animation',\n",
    "    'Biography', 'Comedy', 'Documentary', 'Drama', 'Family', 'Fantasy', 'Game-Show',\n",
    "    'History', 'Horror', 'Music', 'Mystery', 'News', 'Reality-TV', 'Romance', 'Short',\n",
    "    'Sport', 'Talk-Show', 'Thriller', 'War', 'Western'\n",
    "]\n",
    "item['item_class'] = item['item_class'].str.split()\n",
    "item['item_class'] = item['item_class'].apply(lambda x: [item for item in x if item in categories])\n",
    "for category in categories:\n",
    "    item[category] = item['item_class'].apply(lambda x: 1 if category in x else 0)\n",
    "item.head()"
   ],
   "outputs": [
    {
     "data": {
      "text/plain": [
       "   item_id                     item_class  Action  Crime  Film-Noir  Musical  \\\n",
       "0        1            [Animation, Comedy]       0      0          0        0   \n",
       "1        2  [Action, Adventure, Thriller]       1      0          0        0   \n",
       "2        3                     [Thriller]       0      0          0        0   \n",
       "3        4        [Action, Comedy, Drama]       1      0          0        0   \n",
       "4        5       [Crime, Drama, Thriller]       0      1          0        0   \n",
       "\n",
       "   Sci-Fi  Adventure  Animation  Biography  ...  Mystery  News  Reality-TV  \\\n",
       "0       0          0          1          0  ...        0     0           0   \n",
       "1       0          1          0          0  ...        0     0           0   \n",
       "2       0          0          0          0  ...        0     0           0   \n",
       "3       0          0          0          0  ...        0     0           0   \n",
       "4       0          0          0          0  ...        0     0           0   \n",
       "\n",
       "   Romance  Short  Sport  Talk-Show  Thriller  War  Western  \n",
       "0        0      0      0          0         0    0        0  \n",
       "1        0      0      0          0         1    0        0  \n",
       "2        0      0      0          0         1    0        0  \n",
       "3        0      0      0          0         0    0        0  \n",
       "4        0      0      0          0         1    0        0  \n",
       "\n",
       "[5 rows x 29 columns]"
      ],
      "text/html": [
       "<div>\n",
       "<style scoped>\n",
       "    .dataframe tbody tr th:only-of-type {\n",
       "        vertical-align: middle;\n",
       "    }\n",
       "\n",
       "    .dataframe tbody tr th {\n",
       "        vertical-align: top;\n",
       "    }\n",
       "\n",
       "    .dataframe thead th {\n",
       "        text-align: right;\n",
       "    }\n",
       "</style>\n",
       "<table border=\"1\" class=\"dataframe\">\n",
       "  <thead>\n",
       "    <tr style=\"text-align: right;\">\n",
       "      <th></th>\n",
       "      <th>item_id</th>\n",
       "      <th>item_class</th>\n",
       "      <th>Action</th>\n",
       "      <th>Crime</th>\n",
       "      <th>Film-Noir</th>\n",
       "      <th>Musical</th>\n",
       "      <th>Sci-Fi</th>\n",
       "      <th>Adventure</th>\n",
       "      <th>Animation</th>\n",
       "      <th>Biography</th>\n",
       "      <th>...</th>\n",
       "      <th>Mystery</th>\n",
       "      <th>News</th>\n",
       "      <th>Reality-TV</th>\n",
       "      <th>Romance</th>\n",
       "      <th>Short</th>\n",
       "      <th>Sport</th>\n",
       "      <th>Talk-Show</th>\n",
       "      <th>Thriller</th>\n",
       "      <th>War</th>\n",
       "      <th>Western</th>\n",
       "    </tr>\n",
       "  </thead>\n",
       "  <tbody>\n",
       "    <tr>\n",
       "      <th>0</th>\n",
       "      <td>1</td>\n",
       "      <td>[Animation, Comedy]</td>\n",
       "      <td>0</td>\n",
       "      <td>0</td>\n",
       "      <td>0</td>\n",
       "      <td>0</td>\n",
       "      <td>0</td>\n",
       "      <td>0</td>\n",
       "      <td>1</td>\n",
       "      <td>0</td>\n",
       "      <td>...</td>\n",
       "      <td>0</td>\n",
       "      <td>0</td>\n",
       "      <td>0</td>\n",
       "      <td>0</td>\n",
       "      <td>0</td>\n",
       "      <td>0</td>\n",
       "      <td>0</td>\n",
       "      <td>0</td>\n",
       "      <td>0</td>\n",
       "      <td>0</td>\n",
       "    </tr>\n",
       "    <tr>\n",
       "      <th>1</th>\n",
       "      <td>2</td>\n",
       "      <td>[Action, Adventure, Thriller]</td>\n",
       "      <td>1</td>\n",
       "      <td>0</td>\n",
       "      <td>0</td>\n",
       "      <td>0</td>\n",
       "      <td>0</td>\n",
       "      <td>1</td>\n",
       "      <td>0</td>\n",
       "      <td>0</td>\n",
       "      <td>...</td>\n",
       "      <td>0</td>\n",
       "      <td>0</td>\n",
       "      <td>0</td>\n",
       "      <td>0</td>\n",
       "      <td>0</td>\n",
       "      <td>0</td>\n",
       "      <td>0</td>\n",
       "      <td>1</td>\n",
       "      <td>0</td>\n",
       "      <td>0</td>\n",
       "    </tr>\n",
       "    <tr>\n",
       "      <th>2</th>\n",
       "      <td>3</td>\n",
       "      <td>[Thriller]</td>\n",
       "      <td>0</td>\n",
       "      <td>0</td>\n",
       "      <td>0</td>\n",
       "      <td>0</td>\n",
       "      <td>0</td>\n",
       "      <td>0</td>\n",
       "      <td>0</td>\n",
       "      <td>0</td>\n",
       "      <td>...</td>\n",
       "      <td>0</td>\n",
       "      <td>0</td>\n",
       "      <td>0</td>\n",
       "      <td>0</td>\n",
       "      <td>0</td>\n",
       "      <td>0</td>\n",
       "      <td>0</td>\n",
       "      <td>1</td>\n",
       "      <td>0</td>\n",
       "      <td>0</td>\n",
       "    </tr>\n",
       "    <tr>\n",
       "      <th>3</th>\n",
       "      <td>4</td>\n",
       "      <td>[Action, Comedy, Drama]</td>\n",
       "      <td>1</td>\n",
       "      <td>0</td>\n",
       "      <td>0</td>\n",
       "      <td>0</td>\n",
       "      <td>0</td>\n",
       "      <td>0</td>\n",
       "      <td>0</td>\n",
       "      <td>0</td>\n",
       "      <td>...</td>\n",
       "      <td>0</td>\n",
       "      <td>0</td>\n",
       "      <td>0</td>\n",
       "      <td>0</td>\n",
       "      <td>0</td>\n",
       "      <td>0</td>\n",
       "      <td>0</td>\n",
       "      <td>0</td>\n",
       "      <td>0</td>\n",
       "      <td>0</td>\n",
       "    </tr>\n",
       "    <tr>\n",
       "      <th>4</th>\n",
       "      <td>5</td>\n",
       "      <td>[Crime, Drama, Thriller]</td>\n",
       "      <td>0</td>\n",
       "      <td>1</td>\n",
       "      <td>0</td>\n",
       "      <td>0</td>\n",
       "      <td>0</td>\n",
       "      <td>0</td>\n",
       "      <td>0</td>\n",
       "      <td>0</td>\n",
       "      <td>...</td>\n",
       "      <td>0</td>\n",
       "      <td>0</td>\n",
       "      <td>0</td>\n",
       "      <td>0</td>\n",
       "      <td>0</td>\n",
       "      <td>0</td>\n",
       "      <td>0</td>\n",
       "      <td>1</td>\n",
       "      <td>0</td>\n",
       "      <td>0</td>\n",
       "    </tr>\n",
       "  </tbody>\n",
       "</table>\n",
       "<p>5 rows × 29 columns</p>\n",
       "</div>"
      ]
     },
     "execution_count": 82,
     "metadata": {},
     "output_type": "execute_result"
    }
   ],
   "execution_count": 82
  },
  {
   "metadata": {
    "ExecuteTime": {
     "end_time": "2024-12-29T08:24:40.438947Z",
     "start_time": "2024-12-29T08:24:40.435302Z"
    }
   },
   "cell_type": "code",
   "source": "item.drop(columns=['item_id','item_class']).sum()",
   "outputs": [
    {
     "data": {
      "text/plain": [
       "Action         251\n",
       "Crime          109\n",
       "Film-Noir       24\n",
       "Musical         56\n",
       "Sci-Fi         101\n",
       "Adventure      135\n",
       "Animation       42\n",
       "Biography        0\n",
       "Comedy         505\n",
       "Documentary     50\n",
       "Drama          725\n",
       "Family           0\n",
       "Fantasy         22\n",
       "Game-Show        0\n",
       "History          0\n",
       "Horror          92\n",
       "Music            0\n",
       "Mystery         61\n",
       "News             0\n",
       "Reality-TV       0\n",
       "Romance        247\n",
       "Short            0\n",
       "Sport            0\n",
       "Talk-Show        0\n",
       "Thriller       251\n",
       "War             71\n",
       "Western         27\n",
       "dtype: int64"
      ]
     },
     "execution_count": 83,
     "metadata": {},
     "output_type": "execute_result"
    }
   ],
   "execution_count": 83
  },
  {
   "metadata": {
    "ExecuteTime": {
     "end_time": "2024-12-29T08:24:41.258472Z",
     "start_time": "2024-12-29T08:24:41.255725Z"
    }
   },
   "cell_type": "code",
   "source": "item = item.drop(columns=['Biography'])",
   "outputs": [],
   "execution_count": 84
  },
  {
   "metadata": {
    "ExecuteTime": {
     "end_time": "2024-12-29T08:24:42.265158Z",
     "start_time": "2024-12-29T08:24:42.245477Z"
    }
   },
   "cell_type": "code",
   "source": [
    "dataset = pd.merge(dataset, item, on='item_id', how='left')\n",
    "# print(dataset['item_class'].value_counts())\n",
    "dataset.head()"
   ],
   "outputs": [
    {
     "data": {
      "text/plain": [
       "   user_id  item_id  rating  timestamp                             item_class  \\\n",
       "0      196      242       3  881250949                               [Comedy]   \n",
       "1      186      302       3  891717742  [Crime, Film-Noir, Mystery, Thriller]   \n",
       "2       22      377       1  878887116                               [Comedy]   \n",
       "3      244       51       2  880606923         [Drama, Romance, War, Western]   \n",
       "4      166      346       1  886397596                         [Crime, Drama]   \n",
       "\n",
       "   Action  Crime  Film-Noir  Musical  Sci-Fi  ...  Mystery  News  Reality-TV  \\\n",
       "0       0      0          0        0       0  ...        0     0           0   \n",
       "1       0      1          1        0       0  ...        1     0           0   \n",
       "2       0      0          0        0       0  ...        0     0           0   \n",
       "3       0      0          0        0       0  ...        0     0           0   \n",
       "4       0      1          0        0       0  ...        0     0           0   \n",
       "\n",
       "   Romance  Short  Sport  Talk-Show  Thriller  War  Western  \n",
       "0        0      0      0          0         0    0        0  \n",
       "1        0      0      0          0         1    0        0  \n",
       "2        0      0      0          0         0    0        0  \n",
       "3        1      0      0          0         0    1        1  \n",
       "4        0      0      0          0         0    0        0  \n",
       "\n",
       "[5 rows x 31 columns]"
      ],
      "text/html": [
       "<div>\n",
       "<style scoped>\n",
       "    .dataframe tbody tr th:only-of-type {\n",
       "        vertical-align: middle;\n",
       "    }\n",
       "\n",
       "    .dataframe tbody tr th {\n",
       "        vertical-align: top;\n",
       "    }\n",
       "\n",
       "    .dataframe thead th {\n",
       "        text-align: right;\n",
       "    }\n",
       "</style>\n",
       "<table border=\"1\" class=\"dataframe\">\n",
       "  <thead>\n",
       "    <tr style=\"text-align: right;\">\n",
       "      <th></th>\n",
       "      <th>user_id</th>\n",
       "      <th>item_id</th>\n",
       "      <th>rating</th>\n",
       "      <th>timestamp</th>\n",
       "      <th>item_class</th>\n",
       "      <th>Action</th>\n",
       "      <th>Crime</th>\n",
       "      <th>Film-Noir</th>\n",
       "      <th>Musical</th>\n",
       "      <th>Sci-Fi</th>\n",
       "      <th>...</th>\n",
       "      <th>Mystery</th>\n",
       "      <th>News</th>\n",
       "      <th>Reality-TV</th>\n",
       "      <th>Romance</th>\n",
       "      <th>Short</th>\n",
       "      <th>Sport</th>\n",
       "      <th>Talk-Show</th>\n",
       "      <th>Thriller</th>\n",
       "      <th>War</th>\n",
       "      <th>Western</th>\n",
       "    </tr>\n",
       "  </thead>\n",
       "  <tbody>\n",
       "    <tr>\n",
       "      <th>0</th>\n",
       "      <td>196</td>\n",
       "      <td>242</td>\n",
       "      <td>3</td>\n",
       "      <td>881250949</td>\n",
       "      <td>[Comedy]</td>\n",
       "      <td>0</td>\n",
       "      <td>0</td>\n",
       "      <td>0</td>\n",
       "      <td>0</td>\n",
       "      <td>0</td>\n",
       "      <td>...</td>\n",
       "      <td>0</td>\n",
       "      <td>0</td>\n",
       "      <td>0</td>\n",
       "      <td>0</td>\n",
       "      <td>0</td>\n",
       "      <td>0</td>\n",
       "      <td>0</td>\n",
       "      <td>0</td>\n",
       "      <td>0</td>\n",
       "      <td>0</td>\n",
       "    </tr>\n",
       "    <tr>\n",
       "      <th>1</th>\n",
       "      <td>186</td>\n",
       "      <td>302</td>\n",
       "      <td>3</td>\n",
       "      <td>891717742</td>\n",
       "      <td>[Crime, Film-Noir, Mystery, Thriller]</td>\n",
       "      <td>0</td>\n",
       "      <td>1</td>\n",
       "      <td>1</td>\n",
       "      <td>0</td>\n",
       "      <td>0</td>\n",
       "      <td>...</td>\n",
       "      <td>1</td>\n",
       "      <td>0</td>\n",
       "      <td>0</td>\n",
       "      <td>0</td>\n",
       "      <td>0</td>\n",
       "      <td>0</td>\n",
       "      <td>0</td>\n",
       "      <td>1</td>\n",
       "      <td>0</td>\n",
       "      <td>0</td>\n",
       "    </tr>\n",
       "    <tr>\n",
       "      <th>2</th>\n",
       "      <td>22</td>\n",
       "      <td>377</td>\n",
       "      <td>1</td>\n",
       "      <td>878887116</td>\n",
       "      <td>[Comedy]</td>\n",
       "      <td>0</td>\n",
       "      <td>0</td>\n",
       "      <td>0</td>\n",
       "      <td>0</td>\n",
       "      <td>0</td>\n",
       "      <td>...</td>\n",
       "      <td>0</td>\n",
       "      <td>0</td>\n",
       "      <td>0</td>\n",
       "      <td>0</td>\n",
       "      <td>0</td>\n",
       "      <td>0</td>\n",
       "      <td>0</td>\n",
       "      <td>0</td>\n",
       "      <td>0</td>\n",
       "      <td>0</td>\n",
       "    </tr>\n",
       "    <tr>\n",
       "      <th>3</th>\n",
       "      <td>244</td>\n",
       "      <td>51</td>\n",
       "      <td>2</td>\n",
       "      <td>880606923</td>\n",
       "      <td>[Drama, Romance, War, Western]</td>\n",
       "      <td>0</td>\n",
       "      <td>0</td>\n",
       "      <td>0</td>\n",
       "      <td>0</td>\n",
       "      <td>0</td>\n",
       "      <td>...</td>\n",
       "      <td>0</td>\n",
       "      <td>0</td>\n",
       "      <td>0</td>\n",
       "      <td>1</td>\n",
       "      <td>0</td>\n",
       "      <td>0</td>\n",
       "      <td>0</td>\n",
       "      <td>0</td>\n",
       "      <td>1</td>\n",
       "      <td>1</td>\n",
       "    </tr>\n",
       "    <tr>\n",
       "      <th>4</th>\n",
       "      <td>166</td>\n",
       "      <td>346</td>\n",
       "      <td>1</td>\n",
       "      <td>886397596</td>\n",
       "      <td>[Crime, Drama]</td>\n",
       "      <td>0</td>\n",
       "      <td>1</td>\n",
       "      <td>0</td>\n",
       "      <td>0</td>\n",
       "      <td>0</td>\n",
       "      <td>...</td>\n",
       "      <td>0</td>\n",
       "      <td>0</td>\n",
       "      <td>0</td>\n",
       "      <td>0</td>\n",
       "      <td>0</td>\n",
       "      <td>0</td>\n",
       "      <td>0</td>\n",
       "      <td>0</td>\n",
       "      <td>0</td>\n",
       "      <td>0</td>\n",
       "    </tr>\n",
       "  </tbody>\n",
       "</table>\n",
       "<p>5 rows × 31 columns</p>\n",
       "</div>"
      ]
     },
     "execution_count": 85,
     "metadata": {},
     "output_type": "execute_result"
    }
   ],
   "execution_count": 85
  },
  {
   "metadata": {
    "ExecuteTime": {
     "end_time": "2024-12-29T08:24:47.069658Z",
     "start_time": "2024-12-29T08:24:47.065358Z"
    }
   },
   "cell_type": "code",
   "source": "dataset = dataset[dataset.rating > 3]",
   "outputs": [],
   "execution_count": 86
  },
  {
   "cell_type": "markdown",
   "metadata": {},
   "source": [
    "### filter by number of interactions"
   ]
  },
  {
   "cell_type": "code",
   "metadata": {
    "ExecuteTime": {
     "end_time": "2024-12-30T01:29:39.882450Z",
     "start_time": "2024-12-30T01:29:38.650366Z"
    }
   },
   "source": [
    "user_threshold = 5\n",
    "item_threshold = 5\n",
    "\n",
    "\n",
    "filtered_dataset = dataset.copy()\n",
    "while(True):\n",
    "    ori_len = len(filtered_dataset)\n",
    "    print(ori_len)\n",
    "    filtered_dataset = filtered_dataset[filtered_dataset['user_id'].map(filtered_dataset['user_id'].value_counts()) >= user_threshold]\n",
    "    filtered_dataset = filtered_dataset[filtered_dataset['item_id'].map(filtered_dataset['item_id'].value_counts()) >= item_threshold]\n",
    "    print(len(filtered_dataset))\n",
    "    # break\n",
    "    if len(filtered_dataset) == ori_len:\n",
    "        break\n",
    "print('done!')\n",
    "# filtered_dataset.head()"
   ],
   "outputs": [
    {
     "name": "stdout",
     "output_type": "stream",
     "text": [
      "12195566\n",
      "12178575\n",
      "12178575\n",
      "12178563\n",
      "12178563\n",
      "12178563\n",
      "done!\n"
     ]
    }
   ],
   "execution_count": 102
  },
  {
   "cell_type": "markdown",
   "metadata": {},
   "source": [
    "# Map all ids"
   ]
  },
  {
   "cell_type": "code",
   "metadata": {
    "ExecuteTime": {
     "end_time": "2024-12-30T01:29:52.557340Z",
     "start_time": "2024-12-30T01:29:52.550412Z"
    }
   },
   "source": [
    "\n",
    "all_user = filtered_dataset.user_id\n",
    "all_item = filtered_dataset.item_id"
   ],
   "outputs": [],
   "execution_count": 103
  },
  {
   "cell_type": "code",
   "metadata": {
    "ExecuteTime": {
     "end_time": "2024-12-30T01:29:53.266620Z",
     "start_time": "2024-12-30T01:29:53.170097Z"
    }
   },
   "source": [
    "user_id, user_token = pd.factorize(all_user)\n",
    "print(\"num user: \",len(user_token))\n",
    "item_id, item_token = pd.factorize(all_item)\n",
    "print(\"num item: \", len(item_token))\n",
    "user_mapping_dict = {_: idx for idx, _ in enumerate(user_token)}\n",
    "item_mapping_dict = {_: idx+1 for idx, _ in enumerate(item_token)}"
   ],
   "outputs": [
    {
     "name": "stdout",
     "output_type": "stream",
     "text": [
      "num user:  137474\n",
      "num item:  15405\n"
     ]
    }
   ],
   "execution_count": 104
  },
  {
   "cell_type": "code",
   "metadata": {
    "ExecuteTime": {
     "end_time": "2024-12-30T01:30:07.025336Z",
     "start_time": "2024-12-30T01:30:03.840398Z"
    }
   },
   "source": [
    "mapped_dataset = filtered_dataset.copy()\n",
    "mapped_dataset['user_id'] = filtered_dataset['user_id'].apply(lambda x: user_mapping_dict[x])\n",
    "mapped_dataset['item_id'] = filtered_dataset['item_id'].apply(lambda x: item_mapping_dict[x])\n",
    "mapped_dataset.head()"
   ],
   "outputs": [
    {
     "data": {
      "text/plain": [
       "   user_id  item_id  rating   timestamp\n",
       "0        0        1     3.5  1112486027\n",
       "1        0        2     3.5  1112484676\n",
       "2        0        3     3.5  1112484819\n",
       "3        0        4     3.5  1112484727\n",
       "4        0        5     3.5  1112484580"
      ],
      "text/html": [
       "<div>\n",
       "<style scoped>\n",
       "    .dataframe tbody tr th:only-of-type {\n",
       "        vertical-align: middle;\n",
       "    }\n",
       "\n",
       "    .dataframe tbody tr th {\n",
       "        vertical-align: top;\n",
       "    }\n",
       "\n",
       "    .dataframe thead th {\n",
       "        text-align: right;\n",
       "    }\n",
       "</style>\n",
       "<table border=\"1\" class=\"dataframe\">\n",
       "  <thead>\n",
       "    <tr style=\"text-align: right;\">\n",
       "      <th></th>\n",
       "      <th>user_id</th>\n",
       "      <th>item_id</th>\n",
       "      <th>rating</th>\n",
       "      <th>timestamp</th>\n",
       "    </tr>\n",
       "  </thead>\n",
       "  <tbody>\n",
       "    <tr>\n",
       "      <th>0</th>\n",
       "      <td>0</td>\n",
       "      <td>1</td>\n",
       "      <td>3.5</td>\n",
       "      <td>1112486027</td>\n",
       "    </tr>\n",
       "    <tr>\n",
       "      <th>1</th>\n",
       "      <td>0</td>\n",
       "      <td>2</td>\n",
       "      <td>3.5</td>\n",
       "      <td>1112484676</td>\n",
       "    </tr>\n",
       "    <tr>\n",
       "      <th>2</th>\n",
       "      <td>0</td>\n",
       "      <td>3</td>\n",
       "      <td>3.5</td>\n",
       "      <td>1112484819</td>\n",
       "    </tr>\n",
       "    <tr>\n",
       "      <th>3</th>\n",
       "      <td>0</td>\n",
       "      <td>4</td>\n",
       "      <td>3.5</td>\n",
       "      <td>1112484727</td>\n",
       "    </tr>\n",
       "    <tr>\n",
       "      <th>4</th>\n",
       "      <td>0</td>\n",
       "      <td>5</td>\n",
       "      <td>3.5</td>\n",
       "      <td>1112484580</td>\n",
       "    </tr>\n",
       "  </tbody>\n",
       "</table>\n",
       "</div>"
      ]
     },
     "execution_count": 105,
     "metadata": {},
     "output_type": "execute_result"
    }
   ],
   "execution_count": 105
  },
  {
   "metadata": {
    "ExecuteTime": {
     "end_time": "2024-12-30T01:30:11.134897Z",
     "start_time": "2024-12-30T01:30:08.020198Z"
    }
   },
   "cell_type": "code",
   "source": [
    "dataset = mapped_dataset.sort_values(by=['user_id', 'timestamp'])\n",
    "item_class = dataset.drop(columns=['user_id','rating','timestamp','item_class'])\n",
    "item_class = item_class.groupby('item_id').max().reset_index()\n",
    "print(len(item_class))\n",
    "# with open(os.path.join(root, 'item_class.pkl'), 'wb') as f:\n",
    "#     pickle.dump(item_class, f)"
   ],
   "outputs": [
    {
     "ename": "KeyError",
     "evalue": "\"['item_class'] not found in axis\"",
     "output_type": "error",
     "traceback": [
      "\u001B[0;31m---------------------------------------------------------------------------\u001B[0m",
      "\u001B[0;31mKeyError\u001B[0m                                  Traceback (most recent call last)",
      "Cell \u001B[0;32mIn[106], line 2\u001B[0m\n\u001B[1;32m      1\u001B[0m dataset \u001B[38;5;241m=\u001B[39m mapped_dataset\u001B[38;5;241m.\u001B[39msort_values(by\u001B[38;5;241m=\u001B[39m[\u001B[38;5;124m'\u001B[39m\u001B[38;5;124muser_id\u001B[39m\u001B[38;5;124m'\u001B[39m, \u001B[38;5;124m'\u001B[39m\u001B[38;5;124mtimestamp\u001B[39m\u001B[38;5;124m'\u001B[39m])\n\u001B[0;32m----> 2\u001B[0m item_class \u001B[38;5;241m=\u001B[39m dataset\u001B[38;5;241m.\u001B[39mdrop(columns\u001B[38;5;241m=\u001B[39m[\u001B[38;5;124m'\u001B[39m\u001B[38;5;124muser_id\u001B[39m\u001B[38;5;124m'\u001B[39m,\u001B[38;5;124m'\u001B[39m\u001B[38;5;124mrating\u001B[39m\u001B[38;5;124m'\u001B[39m,\u001B[38;5;124m'\u001B[39m\u001B[38;5;124mtimestamp\u001B[39m\u001B[38;5;124m'\u001B[39m,\u001B[38;5;124m'\u001B[39m\u001B[38;5;124mitem_class\u001B[39m\u001B[38;5;124m'\u001B[39m])\n\u001B[1;32m      3\u001B[0m item_class \u001B[38;5;241m=\u001B[39m item_class\u001B[38;5;241m.\u001B[39mgroupby(\u001B[38;5;124m'\u001B[39m\u001B[38;5;124mitem_id\u001B[39m\u001B[38;5;124m'\u001B[39m)\u001B[38;5;241m.\u001B[39mmax()\u001B[38;5;241m.\u001B[39mreset_index()\n\u001B[1;32m      4\u001B[0m \u001B[38;5;28mprint\u001B[39m(\u001B[38;5;28mlen\u001B[39m(item_class))\n",
      "File \u001B[0;32m~/miniconda3/lib/python3.12/site-packages/pandas/core/frame.py:5581\u001B[0m, in \u001B[0;36mDataFrame.drop\u001B[0;34m(self, labels, axis, index, columns, level, inplace, errors)\u001B[0m\n\u001B[1;32m   5433\u001B[0m \u001B[38;5;28;01mdef\u001B[39;00m \u001B[38;5;21mdrop\u001B[39m(\n\u001B[1;32m   5434\u001B[0m     \u001B[38;5;28mself\u001B[39m,\n\u001B[1;32m   5435\u001B[0m     labels: IndexLabel \u001B[38;5;241m|\u001B[39m \u001B[38;5;28;01mNone\u001B[39;00m \u001B[38;5;241m=\u001B[39m \u001B[38;5;28;01mNone\u001B[39;00m,\n\u001B[0;32m   (...)\u001B[0m\n\u001B[1;32m   5442\u001B[0m     errors: IgnoreRaise \u001B[38;5;241m=\u001B[39m \u001B[38;5;124m\"\u001B[39m\u001B[38;5;124mraise\u001B[39m\u001B[38;5;124m\"\u001B[39m,\n\u001B[1;32m   5443\u001B[0m ) \u001B[38;5;241m-\u001B[39m\u001B[38;5;241m>\u001B[39m DataFrame \u001B[38;5;241m|\u001B[39m \u001B[38;5;28;01mNone\u001B[39;00m:\n\u001B[1;32m   5444\u001B[0m \u001B[38;5;250m    \u001B[39m\u001B[38;5;124;03m\"\"\"\u001B[39;00m\n\u001B[1;32m   5445\u001B[0m \u001B[38;5;124;03m    Drop specified labels from rows or columns.\u001B[39;00m\n\u001B[1;32m   5446\u001B[0m \n\u001B[0;32m   (...)\u001B[0m\n\u001B[1;32m   5579\u001B[0m \u001B[38;5;124;03m            weight  1.0     0.8\u001B[39;00m\n\u001B[1;32m   5580\u001B[0m \u001B[38;5;124;03m    \"\"\"\u001B[39;00m\n\u001B[0;32m-> 5581\u001B[0m     \u001B[38;5;28;01mreturn\u001B[39;00m \u001B[38;5;28msuper\u001B[39m()\u001B[38;5;241m.\u001B[39mdrop(\n\u001B[1;32m   5582\u001B[0m         labels\u001B[38;5;241m=\u001B[39mlabels,\n\u001B[1;32m   5583\u001B[0m         axis\u001B[38;5;241m=\u001B[39maxis,\n\u001B[1;32m   5584\u001B[0m         index\u001B[38;5;241m=\u001B[39mindex,\n\u001B[1;32m   5585\u001B[0m         columns\u001B[38;5;241m=\u001B[39mcolumns,\n\u001B[1;32m   5586\u001B[0m         level\u001B[38;5;241m=\u001B[39mlevel,\n\u001B[1;32m   5587\u001B[0m         inplace\u001B[38;5;241m=\u001B[39minplace,\n\u001B[1;32m   5588\u001B[0m         errors\u001B[38;5;241m=\u001B[39merrors,\n\u001B[1;32m   5589\u001B[0m     )\n",
      "File \u001B[0;32m~/miniconda3/lib/python3.12/site-packages/pandas/core/generic.py:4788\u001B[0m, in \u001B[0;36mNDFrame.drop\u001B[0;34m(self, labels, axis, index, columns, level, inplace, errors)\u001B[0m\n\u001B[1;32m   4786\u001B[0m \u001B[38;5;28;01mfor\u001B[39;00m axis, labels \u001B[38;5;129;01min\u001B[39;00m axes\u001B[38;5;241m.\u001B[39mitems():\n\u001B[1;32m   4787\u001B[0m     \u001B[38;5;28;01mif\u001B[39;00m labels \u001B[38;5;129;01mis\u001B[39;00m \u001B[38;5;129;01mnot\u001B[39;00m \u001B[38;5;28;01mNone\u001B[39;00m:\n\u001B[0;32m-> 4788\u001B[0m         obj \u001B[38;5;241m=\u001B[39m obj\u001B[38;5;241m.\u001B[39m_drop_axis(labels, axis, level\u001B[38;5;241m=\u001B[39mlevel, errors\u001B[38;5;241m=\u001B[39merrors)\n\u001B[1;32m   4790\u001B[0m \u001B[38;5;28;01mif\u001B[39;00m inplace:\n\u001B[1;32m   4791\u001B[0m     \u001B[38;5;28mself\u001B[39m\u001B[38;5;241m.\u001B[39m_update_inplace(obj)\n",
      "File \u001B[0;32m~/miniconda3/lib/python3.12/site-packages/pandas/core/generic.py:4830\u001B[0m, in \u001B[0;36mNDFrame._drop_axis\u001B[0;34m(self, labels, axis, level, errors, only_slice)\u001B[0m\n\u001B[1;32m   4828\u001B[0m         new_axis \u001B[38;5;241m=\u001B[39m axis\u001B[38;5;241m.\u001B[39mdrop(labels, level\u001B[38;5;241m=\u001B[39mlevel, errors\u001B[38;5;241m=\u001B[39merrors)\n\u001B[1;32m   4829\u001B[0m     \u001B[38;5;28;01melse\u001B[39;00m:\n\u001B[0;32m-> 4830\u001B[0m         new_axis \u001B[38;5;241m=\u001B[39m axis\u001B[38;5;241m.\u001B[39mdrop(labels, errors\u001B[38;5;241m=\u001B[39merrors)\n\u001B[1;32m   4831\u001B[0m     indexer \u001B[38;5;241m=\u001B[39m axis\u001B[38;5;241m.\u001B[39mget_indexer(new_axis)\n\u001B[1;32m   4833\u001B[0m \u001B[38;5;66;03m# Case for non-unique axis\u001B[39;00m\n\u001B[1;32m   4834\u001B[0m \u001B[38;5;28;01melse\u001B[39;00m:\n",
      "File \u001B[0;32m~/miniconda3/lib/python3.12/site-packages/pandas/core/indexes/base.py:7070\u001B[0m, in \u001B[0;36mIndex.drop\u001B[0;34m(self, labels, errors)\u001B[0m\n\u001B[1;32m   7068\u001B[0m \u001B[38;5;28;01mif\u001B[39;00m mask\u001B[38;5;241m.\u001B[39many():\n\u001B[1;32m   7069\u001B[0m     \u001B[38;5;28;01mif\u001B[39;00m errors \u001B[38;5;241m!=\u001B[39m \u001B[38;5;124m\"\u001B[39m\u001B[38;5;124mignore\u001B[39m\u001B[38;5;124m\"\u001B[39m:\n\u001B[0;32m-> 7070\u001B[0m         \u001B[38;5;28;01mraise\u001B[39;00m \u001B[38;5;167;01mKeyError\u001B[39;00m(\u001B[38;5;124mf\u001B[39m\u001B[38;5;124m\"\u001B[39m\u001B[38;5;132;01m{\u001B[39;00mlabels[mask]\u001B[38;5;241m.\u001B[39mtolist()\u001B[38;5;132;01m}\u001B[39;00m\u001B[38;5;124m not found in axis\u001B[39m\u001B[38;5;124m\"\u001B[39m)\n\u001B[1;32m   7071\u001B[0m     indexer \u001B[38;5;241m=\u001B[39m indexer[\u001B[38;5;241m~\u001B[39mmask]\n\u001B[1;32m   7072\u001B[0m \u001B[38;5;28;01mreturn\u001B[39;00m \u001B[38;5;28mself\u001B[39m\u001B[38;5;241m.\u001B[39mdelete(indexer)\n",
      "\u001B[0;31mKeyError\u001B[0m: \"['item_class'] not found in axis\""
     ]
    }
   ],
   "execution_count": 106
  },
  {
   "metadata": {
    "ExecuteTime": {
     "end_time": "2024-12-30T01:30:23.308103Z",
     "start_time": "2024-12-30T01:30:18.820153Z"
    }
   },
   "cell_type": "code",
   "source": [
    "dataset = mapped_dataset.sort_values(by=['user_id', 'timestamp'])\n",
    "user_group = dataset.groupby('user_id')['item_id'].apply(list)\n",
    "user_group.head()"
   ],
   "outputs": [
    {
     "data": {
      "text/plain": [
       "user_id\n",
       "0    [20, 19, 81, 56, 23, 90, 14, 103, 7, 6, 54, 40...\n",
       "1    [163, 169, 172, 177, 181, 165, 17, 43, 180, 18...\n",
       "2    [17, 238, 65, 278, 279, 265, 266, 277, 205, 22...\n",
       "3    [295, 297, 302, 167, 17, 300, 305, 296, 298, 2...\n",
       "4    [163, 310, 329, 330, 327, 331, 334, 335, 311, ...\n",
       "Name: item_id, dtype: object"
      ]
     },
     "execution_count": 107,
     "metadata": {},
     "output_type": "execute_result"
    }
   ],
   "execution_count": 107
  },
  {
   "metadata": {
    "ExecuteTime": {
     "end_time": "2024-12-30T01:30:24.189377Z",
     "start_time": "2024-12-30T01:30:24.160426Z"
    }
   },
   "cell_type": "code",
   "source": [
    "k=0\n",
    "for i in user_group:\n",
    "    k+=len(i)\n",
    "print(k)\n",
    "print(k/len(user_group))"
   ],
   "outputs": [
    {
     "name": "stdout",
     "output_type": "stream",
     "text": [
      "12178563\n",
      "88.58811848058542\n"
     ]
    }
   ],
   "execution_count": 108
  },
  {
   "cell_type": "markdown",
   "metadata": {},
   "source": [
    "### In-domain sequences"
   ]
  },
  {
   "cell_type": "code",
   "metadata": {
    "ExecuteTime": {
     "end_time": "2024-12-30T01:30:26.725650Z",
     "start_time": "2024-12-30T01:30:25.960552Z"
    }
   },
   "source": [
    "# max_seq_len = 20\n",
    "# \n",
    "# def truncate_or_pad(seq):\n",
    "#     cur_seq_len = len(seq)\n",
    "#     if cur_seq_len > max_seq_len:\n",
    "#         return seq[-max_seq_len:], max_seq_len\n",
    "#     else:\n",
    "#         return seq + [PAD] * (max_seq_len - cur_seq_len), cur_seq_len\n",
    "\n",
    "# \n",
    "# dataset = mapped_dataset.sort_values(by=['user_id', 'timestamp'])\n",
    "# user_group = dataset.groupby('user_id')['item_id'].apply(list)\n",
    "train, val, test = [], [], []\n",
    "\n",
    "for user_id, user_seq in list(zip(user_group.index, user_group.tolist())):\n",
    "    # iterate on each user sequence\n",
    "    # ------ test sample ------------\n",
    "    test_data = user_seq[-1]\n",
    "    test.append([test_data])\n",
    "    # ------ val sample -------------\n",
    "    val_data = user_seq[-2]\n",
    "    val.append([val_data])\n",
    "    # ------ train sample -----------\n",
    "    train_data= user_seq[:-2]\n",
    "    train.append(train_data)\n",
    "data = {'train': train, 'val': val, 'test': test}\n",
    "with open(os.path.join(root, 'dataset.pkl'), 'wb') as f:\n",
    "    pickle.dump(data, f)\n",
    "# torch.save(train, os.path.join(output_path, 'dataset.pkl'))\n",
    "\n",
    "print('done!')"
   ],
   "outputs": [
    {
     "name": "stdout",
     "output_type": "stream",
     "text": [
      "done!\n"
     ]
    }
   ],
   "execution_count": 109
  },
  {
   "cell_type": "markdown",
   "metadata": {},
   "source": [
    "### mixed sequence"
   ]
  },
  {
   "cell_type": "markdown",
   "metadata": {},
   "source": [
    "# Save"
   ]
  },
  {
   "cell_type": "code",
   "execution_count": 12,
   "metadata": {},
   "outputs": [],
   "source": [
    "# for d_name, d in zip(output_dataset_name_list, mapped_dataset_list):\n",
    "#     d.to_csv(os.path.join(output_path, d_name, 'inter.csv'), sep=',', index=None)"
   ]
  }
 ],
 "metadata": {
  "kernelspec": {
   "display_name": "base",
   "language": "python",
   "name": "python3"
  },
  "language_info": {
   "codemirror_mode": {
    "name": "ipython",
    "version": 3
   },
   "file_extension": ".py",
   "mimetype": "text/x-python",
   "name": "python",
   "nbconvert_exporter": "python",
   "pygments_lexer": "ipython3",
   "version": "3.9.15"
  }
 },
 "nbformat": 4,
 "nbformat_minor": 2
}
