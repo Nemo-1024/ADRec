{
 "cells": [
  {
   "cell_type": "code",
   "metadata": {
    "ExecuteTime": {
     "end_time": "2025-02-05T06:08:32.748568Z",
     "start_time": "2025-02-05T06:08:32.206545Z"
    }
   },
   "source": [
    "import pandas as pd\n",
    "import os\n",
    "import random\n",
    "import torch\n",
    "import pickle"
   ],
   "outputs": [],
   "execution_count": 2
  },
  {
   "cell_type": "code",
   "metadata": {
    "ExecuteTime": {
     "end_time": "2025-02-05T06:08:33.649426Z",
     "start_time": "2025-02-05T06:08:33.506143Z"
    }
   },
   "source": [
    "random.seed(2024)\n",
    "!ls"
   ],
   "outputs": [
    {
     "name": "stdout",
     "output_type": "stream",
     "text": [
      "ablation_20.csv     lambda_1.csv\t     processed_data.csv\r\n",
      "ablation_50.csv     lambda.csv\t\t     readme.md\r\n",
      "ablation.csv\t    pcgrad_1.csv\t     Statistics_KuaiRec.ipynb\r\n",
      "data\t\t    pcgrad.csv\t\t     table_50.csv\r\n",
      "dif_steps_1.csv     PE_1.csv\t\t     table.csv\r\n",
      "dif_steps.csv\t    PE.csv\t\t     table.ipynb\r\n",
      "formatted_data.csv  preprocess_amazon.ipynb  table_new_50.csv\r\n",
      "item_class.ipynb    processed_50.csv\t     table_new.csv\r\n"
     ]
    }
   ],
   "execution_count": 3
  },
  {
   "cell_type": "markdown",
   "metadata": {},
   "source": [
    "# Load original dataset"
   ]
  },
  {
   "cell_type": "markdown",
   "metadata": {},
   "source": [
    "### Selecting datasets"
   ]
  },
  {
   "cell_type": "code",
   "metadata": {
    "ExecuteTime": {
     "end_time": "2025-02-05T06:10:57.240535Z",
     "start_time": "2025-02-05T06:10:55.577727Z"
    }
   },
   "source": [
    "\n",
    "dataset_name =  \"yelp\"\n",
    "root = 'data/'+dataset_name+'/'\n",
    "path = root + dataset_name + '.inter'\n",
    "dataset = pd.read_csv(path, header=0,sep='\\t', skipinitialspace=True,usecols=[0,1,2,3])\n",
    "# path = root + dataset_name + '.csv'\n",
    "# dataset = pd.read_csv(path, header=0,sep=',', skipinitialspace=True)\n",
    "# print(dataset.head(2))\n",
    "# if dataset_name ==  \"mind\":\n",
    "#     dataset=dataset.drop('label:float', axis=1)\n",
    "print(dataset.shape)\n",
    "dataset.head()"
   ],
   "outputs": [
    {
     "name": "stdout",
     "output_type": "stream",
     "text": [
      "(5261669, 4)\n"
     ]
    },
    {
     "data": {
      "text/plain": [
       "            user_id:token           item_id:token  rating:float  \\\n",
       "0  bv2nCi5Qv5vroFiqKGopiw  0W4lkclzZThpx3V65bVgig             5   \n",
       "1  bv2nCi5Qv5vroFiqKGopiw  AEx2SYEUJmTxVVB18LlCwA             5   \n",
       "2  bv2nCi5Qv5vroFiqKGopiw  VR6GpWIda3SfvPC-lg9H3w             5   \n",
       "3  bv2nCi5Qv5vroFiqKGopiw  CKC0-MOWMqoeWf6s-szl8g             5   \n",
       "4  bv2nCi5Qv5vroFiqKGopiw  ACFtxLv8pGrrxMm6EgjreA             4   \n",
       "\n",
       "   timestamp:float  \n",
       "0       1464364800  \n",
       "1       1464364800  \n",
       "2       1464364800  \n",
       "3       1464364800  \n",
       "4       1464364800  "
      ],
      "text/html": [
       "<div>\n",
       "<style scoped>\n",
       "    .dataframe tbody tr th:only-of-type {\n",
       "        vertical-align: middle;\n",
       "    }\n",
       "\n",
       "    .dataframe tbody tr th {\n",
       "        vertical-align: top;\n",
       "    }\n",
       "\n",
       "    .dataframe thead th {\n",
       "        text-align: right;\n",
       "    }\n",
       "</style>\n",
       "<table border=\"1\" class=\"dataframe\">\n",
       "  <thead>\n",
       "    <tr style=\"text-align: right;\">\n",
       "      <th></th>\n",
       "      <th>user_id:token</th>\n",
       "      <th>item_id:token</th>\n",
       "      <th>rating:float</th>\n",
       "      <th>timestamp:float</th>\n",
       "    </tr>\n",
       "  </thead>\n",
       "  <tbody>\n",
       "    <tr>\n",
       "      <th>0</th>\n",
       "      <td>bv2nCi5Qv5vroFiqKGopiw</td>\n",
       "      <td>0W4lkclzZThpx3V65bVgig</td>\n",
       "      <td>5</td>\n",
       "      <td>1464364800</td>\n",
       "    </tr>\n",
       "    <tr>\n",
       "      <th>1</th>\n",
       "      <td>bv2nCi5Qv5vroFiqKGopiw</td>\n",
       "      <td>AEx2SYEUJmTxVVB18LlCwA</td>\n",
       "      <td>5</td>\n",
       "      <td>1464364800</td>\n",
       "    </tr>\n",
       "    <tr>\n",
       "      <th>2</th>\n",
       "      <td>bv2nCi5Qv5vroFiqKGopiw</td>\n",
       "      <td>VR6GpWIda3SfvPC-lg9H3w</td>\n",
       "      <td>5</td>\n",
       "      <td>1464364800</td>\n",
       "    </tr>\n",
       "    <tr>\n",
       "      <th>3</th>\n",
       "      <td>bv2nCi5Qv5vroFiqKGopiw</td>\n",
       "      <td>CKC0-MOWMqoeWf6s-szl8g</td>\n",
       "      <td>5</td>\n",
       "      <td>1464364800</td>\n",
       "    </tr>\n",
       "    <tr>\n",
       "      <th>4</th>\n",
       "      <td>bv2nCi5Qv5vroFiqKGopiw</td>\n",
       "      <td>ACFtxLv8pGrrxMm6EgjreA</td>\n",
       "      <td>4</td>\n",
       "      <td>1464364800</td>\n",
       "    </tr>\n",
       "  </tbody>\n",
       "</table>\n",
       "</div>"
      ]
     },
     "execution_count": 12,
     "metadata": {},
     "output_type": "execute_result"
    }
   ],
   "execution_count": 12
  },
  {
   "metadata": {
    "ExecuteTime": {
     "end_time": "2024-12-30T02:55:44.658986Z",
     "start_time": "2024-12-30T02:55:44.657341Z"
    }
   },
   "cell_type": "code",
   "source": "\n",
   "outputs": [],
   "execution_count": 180
  },
  {
   "metadata": {
    "ExecuteTime": {
     "end_time": "2025-02-05T06:11:23.811620Z",
     "start_time": "2025-02-05T06:11:23.746101Z"
    }
   },
   "cell_type": "code",
   "source": [
    "\n",
    "dataset.columns = ['user_id','item_id', 'rating','timestamp']\n",
    "dataset = dataset[dataset.rating > 3]\n",
    "# dataset.columns = ['user_id', 'item_id',  'timestamp']\n",
    "dataset.head()"
   ],
   "outputs": [
    {
     "data": {
      "text/plain": [
       "                  user_id                 item_id  rating   timestamp\n",
       "0  bv2nCi5Qv5vroFiqKGopiw  0W4lkclzZThpx3V65bVgig       5  1464364800\n",
       "1  bv2nCi5Qv5vroFiqKGopiw  AEx2SYEUJmTxVVB18LlCwA       5  1464364800\n",
       "2  bv2nCi5Qv5vroFiqKGopiw  VR6GpWIda3SfvPC-lg9H3w       5  1464364800\n",
       "3  bv2nCi5Qv5vroFiqKGopiw  CKC0-MOWMqoeWf6s-szl8g       5  1464364800\n",
       "4  bv2nCi5Qv5vroFiqKGopiw  ACFtxLv8pGrrxMm6EgjreA       4  1464364800"
      ],
      "text/html": [
       "<div>\n",
       "<style scoped>\n",
       "    .dataframe tbody tr th:only-of-type {\n",
       "        vertical-align: middle;\n",
       "    }\n",
       "\n",
       "    .dataframe tbody tr th {\n",
       "        vertical-align: top;\n",
       "    }\n",
       "\n",
       "    .dataframe thead th {\n",
       "        text-align: right;\n",
       "    }\n",
       "</style>\n",
       "<table border=\"1\" class=\"dataframe\">\n",
       "  <thead>\n",
       "    <tr style=\"text-align: right;\">\n",
       "      <th></th>\n",
       "      <th>user_id</th>\n",
       "      <th>item_id</th>\n",
       "      <th>rating</th>\n",
       "      <th>timestamp</th>\n",
       "    </tr>\n",
       "  </thead>\n",
       "  <tbody>\n",
       "    <tr>\n",
       "      <th>0</th>\n",
       "      <td>bv2nCi5Qv5vroFiqKGopiw</td>\n",
       "      <td>0W4lkclzZThpx3V65bVgig</td>\n",
       "      <td>5</td>\n",
       "      <td>1464364800</td>\n",
       "    </tr>\n",
       "    <tr>\n",
       "      <th>1</th>\n",
       "      <td>bv2nCi5Qv5vroFiqKGopiw</td>\n",
       "      <td>AEx2SYEUJmTxVVB18LlCwA</td>\n",
       "      <td>5</td>\n",
       "      <td>1464364800</td>\n",
       "    </tr>\n",
       "    <tr>\n",
       "      <th>2</th>\n",
       "      <td>bv2nCi5Qv5vroFiqKGopiw</td>\n",
       "      <td>VR6GpWIda3SfvPC-lg9H3w</td>\n",
       "      <td>5</td>\n",
       "      <td>1464364800</td>\n",
       "    </tr>\n",
       "    <tr>\n",
       "      <th>3</th>\n",
       "      <td>bv2nCi5Qv5vroFiqKGopiw</td>\n",
       "      <td>CKC0-MOWMqoeWf6s-szl8g</td>\n",
       "      <td>5</td>\n",
       "      <td>1464364800</td>\n",
       "    </tr>\n",
       "    <tr>\n",
       "      <th>4</th>\n",
       "      <td>bv2nCi5Qv5vroFiqKGopiw</td>\n",
       "      <td>ACFtxLv8pGrrxMm6EgjreA</td>\n",
       "      <td>4</td>\n",
       "      <td>1464364800</td>\n",
       "    </tr>\n",
       "  </tbody>\n",
       "</table>\n",
       "</div>"
      ]
     },
     "execution_count": 15,
     "metadata": {},
     "output_type": "execute_result"
    }
   ],
   "execution_count": 15
  },
  {
   "cell_type": "markdown",
   "metadata": {},
   "source": [
    "### filter by number of interactions"
   ]
  },
  {
   "cell_type": "code",
   "metadata": {
    "ExecuteTime": {
     "end_time": "2025-02-05T06:11:30.591472Z",
     "start_time": "2025-02-05T06:11:27.685785Z"
    }
   },
   "source": [
    "user_threshold = 5\n",
    "item_threshold = 5\n",
    "\n",
    "\n",
    "filtered_dataset = dataset.copy()\n",
    "while(True):\n",
    "    ori_len = len(filtered_dataset)\n",
    "    print(ori_len)\n",
    "    filtered_dataset = filtered_dataset[filtered_dataset['user_id'].map(filtered_dataset['user_id'].value_counts()) >= user_threshold]\n",
    "    filtered_dataset = filtered_dataset[filtered_dataset['item_id'].map(filtered_dataset['item_id'].value_counts()) >= item_threshold]\n",
    "    print(len(filtered_dataset))\n",
    "    # break\n",
    "    if len(filtered_dataset) == ori_len:\n",
    "        break\n",
    "print('done!')\n",
    "# filtered_dataset.head()"
   ],
   "outputs": [
    {
     "name": "stdout",
     "output_type": "stream",
     "text": [
      "3476664\n",
      "1923578\n",
      "1923578\n",
      "1862100\n",
      "1862100\n",
      "1857504\n",
      "1857504\n",
      "1857112\n",
      "1857112\n",
      "1857020\n",
      "1857020\n",
      "1856992\n",
      "1856992\n",
      "1856992\n",
      "done!\n"
     ]
    }
   ],
   "execution_count": 16
  },
  {
   "cell_type": "markdown",
   "metadata": {},
   "source": [
    "# Map all ids"
   ]
  },
  {
   "cell_type": "code",
   "metadata": {
    "ExecuteTime": {
     "end_time": "2025-02-05T06:11:33.741965Z",
     "start_time": "2025-02-05T06:11:33.735773Z"
    }
   },
   "source": [
    "\n",
    "all_user = filtered_dataset.user_id\n",
    "all_item = filtered_dataset.item_id"
   ],
   "outputs": [],
   "execution_count": 17
  },
  {
   "cell_type": "code",
   "metadata": {
    "ExecuteTime": {
     "end_time": "2025-02-05T06:11:34.736313Z",
     "start_time": "2025-02-05T06:11:34.555915Z"
    }
   },
   "source": [
    "user_id, user_token = pd.factorize(all_user)\n",
    "print(\"num user: \",len(user_token))\n",
    "item_id, item_token = pd.factorize(all_item)\n",
    "print(\"num item: \", len(item_token))\n",
    "user_mapping_dict = {_: idx for idx, _ in enumerate(user_token)}\n",
    "item_mapping_dict = {_: idx+1 for idx, _ in enumerate(item_token)}"
   ],
   "outputs": [
    {
     "name": "stdout",
     "output_type": "stream",
     "text": [
      "num user:  136346\n",
      "num item:  64669\n"
     ]
    }
   ],
   "execution_count": 18
  },
  {
   "cell_type": "code",
   "metadata": {
    "ExecuteTime": {
     "end_time": "2025-02-05T06:11:38.083834Z",
     "start_time": "2025-02-05T06:11:37.585850Z"
    }
   },
   "source": [
    "mapped_dataset = filtered_dataset.copy()\n",
    "mapped_dataset['user_id'] = filtered_dataset['user_id'].apply(lambda x: user_mapping_dict[x])\n",
    "mapped_dataset['item_id'] = filtered_dataset['item_id'].apply(lambda x: item_mapping_dict[x])\n",
    "mapped_dataset.head()"
   ],
   "outputs": [
    {
     "data": {
      "text/plain": [
       "   user_id  item_id  rating   timestamp\n",
       "0        0        1       5  1464364800\n",
       "1        0        2       5  1464364800\n",
       "2        0        3       5  1464364800\n",
       "3        0        4       5  1464364800\n",
       "4        0        5       4  1464364800"
      ],
      "text/html": [
       "<div>\n",
       "<style scoped>\n",
       "    .dataframe tbody tr th:only-of-type {\n",
       "        vertical-align: middle;\n",
       "    }\n",
       "\n",
       "    .dataframe tbody tr th {\n",
       "        vertical-align: top;\n",
       "    }\n",
       "\n",
       "    .dataframe thead th {\n",
       "        text-align: right;\n",
       "    }\n",
       "</style>\n",
       "<table border=\"1\" class=\"dataframe\">\n",
       "  <thead>\n",
       "    <tr style=\"text-align: right;\">\n",
       "      <th></th>\n",
       "      <th>user_id</th>\n",
       "      <th>item_id</th>\n",
       "      <th>rating</th>\n",
       "      <th>timestamp</th>\n",
       "    </tr>\n",
       "  </thead>\n",
       "  <tbody>\n",
       "    <tr>\n",
       "      <th>0</th>\n",
       "      <td>0</td>\n",
       "      <td>1</td>\n",
       "      <td>5</td>\n",
       "      <td>1464364800</td>\n",
       "    </tr>\n",
       "    <tr>\n",
       "      <th>1</th>\n",
       "      <td>0</td>\n",
       "      <td>2</td>\n",
       "      <td>5</td>\n",
       "      <td>1464364800</td>\n",
       "    </tr>\n",
       "    <tr>\n",
       "      <th>2</th>\n",
       "      <td>0</td>\n",
       "      <td>3</td>\n",
       "      <td>5</td>\n",
       "      <td>1464364800</td>\n",
       "    </tr>\n",
       "    <tr>\n",
       "      <th>3</th>\n",
       "      <td>0</td>\n",
       "      <td>4</td>\n",
       "      <td>5</td>\n",
       "      <td>1464364800</td>\n",
       "    </tr>\n",
       "    <tr>\n",
       "      <th>4</th>\n",
       "      <td>0</td>\n",
       "      <td>5</td>\n",
       "      <td>4</td>\n",
       "      <td>1464364800</td>\n",
       "    </tr>\n",
       "  </tbody>\n",
       "</table>\n",
       "</div>"
      ]
     },
     "execution_count": 19,
     "metadata": {},
     "output_type": "execute_result"
    }
   ],
   "execution_count": 19
  },
  {
   "metadata": {
    "ExecuteTime": {
     "end_time": "2025-02-05T06:12:15.173275Z",
     "start_time": "2025-02-05T06:12:14.205622Z"
    }
   },
   "cell_type": "code",
   "source": [
    "dataset = mapped_dataset.sort_values(by=['user_id', 'timestamp'])\n",
    "user_group = dataset.groupby('user_id')['item_id'].apply(list)\n",
    "user_group.head()"
   ],
   "outputs": [
    {
     "data": {
      "text/plain": [
       "user_id\n",
       "0                                   [1, 2, 3, 4, 5, 6]\n",
       "1    [17, 32, 10, 43, 14, 36, 34, 20, 1, 37, 42, 11...\n",
       "2    [63, 73, 49, 54, 58, 693, 75, 691, 71, 690, 47...\n",
       "3    [156, 92, 140, 144, 131, 95, 120, 134, 149, 24...\n",
       "4    [183, 189, 520, 258, 174, 175, 521, 227, 229, ...\n",
       "Name: item_id, dtype: object"
      ]
     },
     "execution_count": 20,
     "metadata": {},
     "output_type": "execute_result"
    }
   ],
   "execution_count": 20
  },
  {
   "metadata": {
    "ExecuteTime": {
     "end_time": "2025-02-05T06:12:18.315498Z",
     "start_time": "2025-02-05T06:12:18.285671Z"
    }
   },
   "cell_type": "code",
   "source": [
    "k=0\n",
    "for i in user_group:\n",
    "    k+=len(i)\n",
    "print(k)\n",
    "print(k/len(user_group))"
   ],
   "outputs": [
    {
     "name": "stdout",
     "output_type": "stream",
     "text": [
      "1856992\n",
      "13.619702814897394\n"
     ]
    }
   ],
   "execution_count": 21
  },
  {
   "cell_type": "markdown",
   "metadata": {},
   "source": [
    "### In-domain sequences"
   ]
  },
  {
   "cell_type": "code",
   "metadata": {
    "ExecuteTime": {
     "end_time": "2025-02-05T06:13:00.594595Z",
     "start_time": "2025-02-05T06:13:00.295291Z"
    }
   },
   "source": [
    "# max_seq_len = 20\n",
    "# \n",
    "# def truncate_or_pad(seq):\n",
    "#     cur_seq_len = len(seq)\n",
    "#     if cur_seq_len > max_seq_len:\n",
    "#         return seq[-max_seq_len:], max_seq_len\n",
    "#     else:\n",
    "#         return seq + [PAD] * (max_seq_len - cur_seq_len), cur_seq_len\n",
    "\n",
    "# \n",
    "# dataset = mapped_dataset.sort_values(by=['user_id', 'timestamp'])\n",
    "# user_group = dataset.groupby('user_id')['item_id'].apply(list)\n",
    "train, val, test = [], [], []\n",
    "\n",
    "for user_id, user_seq in list(zip(user_group.index, user_group.tolist())):\n",
    "    # iterate on each user sequence\n",
    "    # ------ test sample ------------\n",
    "    test_data = user_seq[-1]\n",
    "    test.append([test_data])\n",
    "    # ------ val sample -------------\n",
    "    val_data = user_seq[-2]\n",
    "    val.append([val_data])\n",
    "    # ------ train sample -----------\n",
    "    train_data= user_seq[:-2]\n",
    "    train.append(train_data)\n",
    "data = {'train': train, 'val': val, 'test': test}\n",
    "with open(os.path.join(root, 'dataset.pkl'), 'wb') as f:\n",
    "    pickle.dump(data, f)\n",
    "# torch.save(train, os.path.join(output_path, 'dataset.pkl'))\n",
    "\n",
    "print('done!')"
   ],
   "outputs": [
    {
     "name": "stdout",
     "output_type": "stream",
     "text": [
      "done!\n"
     ]
    }
   ],
   "execution_count": 22
  },
  {
   "metadata": {
    "ExecuteTime": {
     "end_time": "2024-12-30T02:27:27.556265Z",
     "start_time": "2024-12-30T02:27:27.554001Z"
    }
   },
   "cell_type": "code",
   "source": [
    "train_dataset = data['train']\n",
    "print(len(train_dataset))\n",
    "max_len=50\n",
    "# def split_onebyone(data):\n",
    "# # 分割成了最小长度为2的交互递增序列\n",
    "#     id_seq = {}\n",
    "#     idx = 0\n",
    "#     for seq_temp in data:\n",
    "#         #只能从预截取长度中进行切分，不然属于利用了额外数据！！！\n",
    "#         for star in range(max_len):\n",
    "#             id_seq[idx] = seq_temp[-star-2:]\n",
    "#             idx += 1\n",
    "#             if star+2 > len(seq_temp):\n",
    "#                 break\n",
    "#     return id_seq\n",
    "def split_onebyone(u2seq):\n",
    "# 分割成了最小长度为2的交互递增序列\n",
    "    id_seq = {}\n",
    "    idx = 0\n",
    "\n",
    "    for seq_temp in u2seq:\n",
    "        seq_temp = seq_temp[-max_len-1:]\n",
    "        for star in range(len(seq_temp)-1):\n",
    "            id_seq[idx] = seq_temp[:star+2]\n",
    "            idx += 1\n",
    "    return id_seq"
   ],
   "outputs": [
    {
     "name": "stdout",
     "output_type": "stream",
     "text": [
      "6034\n"
     ]
    }
   ],
   "execution_count": 173
  },
  {
   "metadata": {
    "ExecuteTime": {
     "end_time": "2024-12-30T02:27:44.526260Z",
     "start_time": "2024-12-30T02:27:44.184121Z"
    }
   },
   "cell_type": "code",
   "source": [
    "split_train = split_onebyone(train_dataset)\n",
    "len(split_train)"
   ],
   "outputs": [
    {
     "data": {
      "text/plain": [
       "231400"
      ]
     },
     "execution_count": 174,
     "metadata": {},
     "output_type": "execute_result"
    }
   ],
   "execution_count": 174
  },
  {
   "cell_type": "markdown",
   "metadata": {},
   "source": [
    "### mixed sequence"
   ]
  },
  {
   "cell_type": "markdown",
   "metadata": {},
   "source": [
    "# Save"
   ]
  },
  {
   "cell_type": "code",
   "execution_count": 12,
   "metadata": {},
   "outputs": [],
   "source": [
    "# for d_name, d in zip(output_dataset_name_list, mapped_dataset_list):\n",
    "#     d.to_csv(os.path.join(output_path, d_name, 'inter.csv'), sep=',', index=None)"
   ]
  }
 ],
 "metadata": {
  "kernelspec": {
   "display_name": "base",
   "language": "python",
   "name": "python3"
  },
  "language_info": {
   "codemirror_mode": {
    "name": "ipython",
    "version": 3
   },
   "file_extension": ".py",
   "mimetype": "text/x-python",
   "name": "python",
   "nbconvert_exporter": "python",
   "pygments_lexer": "ipython3",
   "version": "3.9.15"
  }
 },
 "nbformat": 4,
 "nbformat_minor": 2
}
